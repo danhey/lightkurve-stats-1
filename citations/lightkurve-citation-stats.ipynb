{
 "cells": [
  {
   "cell_type": "markdown",
   "metadata": {},
   "source": [
    "# Lightkurve citation stats\n",
    "\n",
    "This notebook uses NASA's ADS service to identify publications that mention the string \"Lightkurve\"."
   ]
  },
  {
   "cell_type": "code",
   "execution_count": 1,
   "metadata": {},
   "outputs": [],
   "source": [
    "import ads\n",
    "import pandas as pd\n",
    "import matplotlib.pyplot as plt\n",
    "import matplotlib.dates as mdates"
   ]
  },
  {
   "cell_type": "code",
   "execution_count": 2,
   "metadata": {},
   "outputs": [],
   "source": [
    "FIELDS = ['date', 'pub', 'id', 'volume', 'links_data', 'citation', 'doi',       \n",
    "          'eid', 'keyword_schema', 'citation_count', 'data', 'data_facet',      \n",
    "          'year', 'identifier', 'keyword_norm', 'reference', 'abstract', 'recid',\n",
    "          'alternate_bibcode', 'arxiv_class', 'bibcode', 'first_author_norm',   \n",
    "          'pubdate', 'reader', 'doctype', 'doctype_facet_hier', 'title', 'pub_raw', 'property',\n",
    "          'author', 'email', 'orcid', 'keyword', 'author_norm',                 \n",
    "          'cite_read_boost', 'database', 'classic_factor', 'ack', 'page',       \n",
    "          'first_author', 'reader', 'read_count', 'indexstamp', 'issue', 'keyword_facet',\n",
    "          'aff', 'facility', 'simbid']"
   ]
  },
  {
   "cell_type": "code",
   "execution_count": 3,
   "metadata": {},
   "outputs": [],
   "source": [
    "qry = ads.SearchQuery(q='full:\"lightkurve\" AND year:2017-2050', rows=999999, fl=FIELDS)"
   ]
  },
  {
   "cell_type": "code",
   "execution_count": 4,
   "metadata": {},
   "outputs": [
    {
     "name": "stderr",
     "output_type": "stream",
     "text": [
      "/home/gb/bin/anaconda/lib/python3.8/site-packages/ads-0.12.3-py3.8.egg/ads/search.py:543: UserWarning: Response rows did not match input rows. Setting this query's rows to 2000\n"
     ]
    }
   ],
   "source": [
    "papers = [q for q in qry ]"
   ]
  },
  {
   "cell_type": "code",
   "execution_count": 5,
   "metadata": {},
   "outputs": [],
   "source": [
    "dates = [p.date for p in papers[::-1]]\n",
    "titles = [p.title[0] for p in papers[::-1]]\n",
    "years = [p.year for p in papers[::-1]]\n",
    "authors = [p.first_author_norm for p in papers[::-1]]\n",
    "bibcodes = [p.bibcode for p in papers[::-1]]\n",
    "pubs = [p.pub for p in papers[::-1]]"
   ]
  },
  {
   "cell_type": "code",
   "execution_count": 6,
   "metadata": {},
   "outputs": [
    {
     "name": "stderr",
     "output_type": "stream",
     "text": [
      "/home/gb/bin/anaconda/lib/python3.8/site-packages/pandas/core/strings.py:1954: UserWarning: This pattern has match groups. To actually get the groups, use str.extract.\n",
      "  return func(self, *args, **kwargs)\n"
     ]
    }
   ],
   "source": [
    "df = pd.DataFrame({'year': years,\n",
    "                   'date': pd.to_datetime(dates),\n",
    "                   'title': titles,\n",
    "                   'author': authors,\n",
    "                   'bibcode': bibcodes,\n",
    "                   'pub': pubs})\n",
    "# Filter out Zenodo entries and AAS Abstracts\n",
    "mask = ~df.pub.str.contains(\"(Zenodo)|(Abstracts)\")\n",
    "# Sort by date and reset index\n",
    "df = df[mask].sort_values('date', ascending=False).reset_index(drop=True)"
   ]
  },
  {
   "cell_type": "code",
   "execution_count": 7,
   "metadata": {},
   "outputs": [
    {
     "data": {
      "text/html": [
       "<div>\n",
       "<style scoped>\n",
       "    .dataframe tbody tr th:only-of-type {\n",
       "        vertical-align: middle;\n",
       "    }\n",
       "\n",
       "    .dataframe tbody tr th {\n",
       "        vertical-align: top;\n",
       "    }\n",
       "\n",
       "    .dataframe thead th {\n",
       "        text-align: right;\n",
       "    }\n",
       "</style>\n",
       "<table border=\"1\" class=\"dataframe\">\n",
       "  <thead>\n",
       "    <tr style=\"text-align: right;\">\n",
       "      <th></th>\n",
       "      <th>year</th>\n",
       "      <th>date</th>\n",
       "      <th>title</th>\n",
       "      <th>author</th>\n",
       "      <th>bibcode</th>\n",
       "      <th>pub</th>\n",
       "    </tr>\n",
       "  </thead>\n",
       "  <tbody>\n",
       "    <tr>\n",
       "      <th>0</th>\n",
       "      <td>2020</td>\n",
       "      <td>2020-06-01 00:00:00+00:00</td>\n",
       "      <td>TESS photometry of extreme helium stars PV Tel...</td>\n",
       "      <td>Jeffery, C</td>\n",
       "      <td>2020arXiv200600946J</td>\n",
       "      <td>arXiv e-prints</td>\n",
       "    </tr>\n",
       "    <tr>\n",
       "      <th>1</th>\n",
       "      <td>2020</td>\n",
       "      <td>2020-06-01 00:00:00+00:00</td>\n",
       "      <td>The one that got away: A unique eclipse in the...</td>\n",
       "      <td>Scholz, A</td>\n",
       "      <td>2020arXiv200603582S</td>\n",
       "      <td>arXiv e-prints</td>\n",
       "    </tr>\n",
       "    <tr>\n",
       "      <th>2</th>\n",
       "      <td>2020</td>\n",
       "      <td>2020-06-01 00:00:00+00:00</td>\n",
       "      <td>A search for young exoplanets in Sectors 1-5 o...</td>\n",
       "      <td>Battley, M</td>\n",
       "      <td>2020arXiv200601721B</td>\n",
       "      <td>arXiv e-prints</td>\n",
       "    </tr>\n",
       "    <tr>\n",
       "      <th>3</th>\n",
       "      <td>2020</td>\n",
       "      <td>2020-06-01 00:00:00+00:00</td>\n",
       "      <td>TOI-1338: TESS' First Transiting Circumbinary ...</td>\n",
       "      <td>Kostov, V</td>\n",
       "      <td>2020AJ....159..253K</td>\n",
       "      <td>The Astronomical Journal</td>\n",
       "    </tr>\n",
       "    <tr>\n",
       "      <th>4</th>\n",
       "      <td>2020</td>\n",
       "      <td>2020-05-01 00:00:00+00:00</td>\n",
       "      <td>K2 Ultracool Dwarfs Survey - VI. White light s...</td>\n",
       "      <td>Paudel, R</td>\n",
       "      <td>2020MNRAS.494.5751P</td>\n",
       "      <td>Monthly Notices of the Royal Astronomical Society</td>\n",
       "    </tr>\n",
       "    <tr>\n",
       "      <th>...</th>\n",
       "      <td>...</td>\n",
       "      <td>...</td>\n",
       "      <td>...</td>\n",
       "      <td>...</td>\n",
       "      <td>...</td>\n",
       "      <td>...</td>\n",
       "    </tr>\n",
       "    <tr>\n",
       "      <th>79</th>\n",
       "      <td>2019</td>\n",
       "      <td>2019-02-01 00:00:00+00:00</td>\n",
       "      <td>Flares in open clusters with K2 . I. M 45 (Ple...</td>\n",
       "      <td>Ilin, E</td>\n",
       "      <td>2019A&amp;A...622A.133I</td>\n",
       "      <td>Astronomy and Astrophysics</td>\n",
       "    </tr>\n",
       "    <tr>\n",
       "      <th>80</th>\n",
       "      <td>2019</td>\n",
       "      <td>2019-01-01 00:00:00+00:00</td>\n",
       "      <td>A Transiting Hot Jupiter Candidate toward the ...</td>\n",
       "      <td>Hedges, C</td>\n",
       "      <td>2019RNAAS...3...18H</td>\n",
       "      <td>Research Notes of the American Astronomical So...</td>\n",
       "    </tr>\n",
       "    <tr>\n",
       "      <th>81</th>\n",
       "      <td>2018</td>\n",
       "      <td>2018-12-01 00:00:00+00:00</td>\n",
       "      <td>Lightkurve: Kepler and TESS time series analys...</td>\n",
       "      <td>Lightkurve Collaboration</td>\n",
       "      <td>2018ascl.soft12013L</td>\n",
       "      <td>Astrophysics Source Code Library</td>\n",
       "    </tr>\n",
       "    <tr>\n",
       "      <th>82</th>\n",
       "      <td>2018</td>\n",
       "      <td>2018-10-01 00:00:00+00:00</td>\n",
       "      <td>No Optimal SFF Motion Detrending Parameters fo...</td>\n",
       "      <td>Zhang, J</td>\n",
       "      <td>2018RNAAS...2..182Z</td>\n",
       "      <td>Research Notes of the American Astronomical So...</td>\n",
       "    </tr>\n",
       "    <tr>\n",
       "      <th>83</th>\n",
       "      <td>2018</td>\n",
       "      <td>2018-10-01 00:00:00+00:00</td>\n",
       "      <td>Kepler's Discoveries Will Continue: 21 Importa...</td>\n",
       "      <td>Barentsen, G</td>\n",
       "      <td>2018arXiv181012554B</td>\n",
       "      <td>arXiv e-prints</td>\n",
       "    </tr>\n",
       "  </tbody>\n",
       "</table>\n",
       "<p>84 rows × 6 columns</p>\n",
       "</div>"
      ],
      "text/plain": [
       "    year                      date  \\\n",
       "0   2020 2020-06-01 00:00:00+00:00   \n",
       "1   2020 2020-06-01 00:00:00+00:00   \n",
       "2   2020 2020-06-01 00:00:00+00:00   \n",
       "3   2020 2020-06-01 00:00:00+00:00   \n",
       "4   2020 2020-05-01 00:00:00+00:00   \n",
       "..   ...                       ...   \n",
       "79  2019 2019-02-01 00:00:00+00:00   \n",
       "80  2019 2019-01-01 00:00:00+00:00   \n",
       "81  2018 2018-12-01 00:00:00+00:00   \n",
       "82  2018 2018-10-01 00:00:00+00:00   \n",
       "83  2018 2018-10-01 00:00:00+00:00   \n",
       "\n",
       "                                                title  \\\n",
       "0   TESS photometry of extreme helium stars PV Tel...   \n",
       "1   The one that got away: A unique eclipse in the...   \n",
       "2   A search for young exoplanets in Sectors 1-5 o...   \n",
       "3   TOI-1338: TESS' First Transiting Circumbinary ...   \n",
       "4   K2 Ultracool Dwarfs Survey - VI. White light s...   \n",
       "..                                                ...   \n",
       "79  Flares in open clusters with K2 . I. M 45 (Ple...   \n",
       "80  A Transiting Hot Jupiter Candidate toward the ...   \n",
       "81  Lightkurve: Kepler and TESS time series analys...   \n",
       "82  No Optimal SFF Motion Detrending Parameters fo...   \n",
       "83  Kepler's Discoveries Will Continue: 21 Importa...   \n",
       "\n",
       "                      author              bibcode  \\\n",
       "0                 Jeffery, C  2020arXiv200600946J   \n",
       "1                  Scholz, A  2020arXiv200603582S   \n",
       "2                 Battley, M  2020arXiv200601721B   \n",
       "3                  Kostov, V  2020AJ....159..253K   \n",
       "4                  Paudel, R  2020MNRAS.494.5751P   \n",
       "..                       ...                  ...   \n",
       "79                   Ilin, E  2019A&A...622A.133I   \n",
       "80                 Hedges, C  2019RNAAS...3...18H   \n",
       "81  Lightkurve Collaboration  2018ascl.soft12013L   \n",
       "82                  Zhang, J  2018RNAAS...2..182Z   \n",
       "83              Barentsen, G  2018arXiv181012554B   \n",
       "\n",
       "                                                  pub  \n",
       "0                                      arXiv e-prints  \n",
       "1                                      arXiv e-prints  \n",
       "2                                      arXiv e-prints  \n",
       "3                            The Astronomical Journal  \n",
       "4   Monthly Notices of the Royal Astronomical Society  \n",
       "..                                                ...  \n",
       "79                         Astronomy and Astrophysics  \n",
       "80  Research Notes of the American Astronomical So...  \n",
       "81                   Astrophysics Source Code Library  \n",
       "82  Research Notes of the American Astronomical So...  \n",
       "83                                     arXiv e-prints  \n",
       "\n",
       "[84 rows x 6 columns]"
      ]
     },
     "execution_count": 7,
     "metadata": {},
     "output_type": "execute_result"
    }
   ],
   "source": [
    "df"
   ]
  },
  {
   "cell_type": "code",
   "execution_count": 8,
   "metadata": {},
   "outputs": [],
   "source": [
    "df.to_csv(\"publications-using-lightkurve.csv\")"
   ]
  },
  {
   "cell_type": "markdown",
   "metadata": {},
   "source": [
    "## Create a plot"
   ]
  },
  {
   "cell_type": "code",
   "execution_count": 9,
   "metadata": {},
   "outputs": [],
   "source": [
    "x = pd.date_range('2018-01-01T00:00:00Z', '2020-06-01T00:00:00Z', freq='1M')"
   ]
  },
  {
   "cell_type": "code",
   "execution_count": 10,
   "metadata": {},
   "outputs": [],
   "source": [
    "y = [len(df[df.date < d]) for d in x]"
   ]
  },
  {
   "cell_type": "code",
   "execution_count": 17,
   "metadata": {},
   "outputs": [],
   "source": [
    "# Load fancy style options\n",
    "import matplotlib\n",
    "import matplotlib.pyplot as pl\n",
    "pl.style.use(\"fivethirtyeight\")\n",
    "style = {'font.family': 'Open Sans',\n",
    "         'font.weight': 300,\n",
    "         'figure.figsize': (6, 3),\n",
    "         'figure.dpi': 200,\n",
    "         'figure.facecolor': 'white',\n",
    "         'axes.facecolor': 'white',\n",
    "         'font.size': 9,\n",
    "         'axes.edgecolor': 'white',\n",
    "         'savefig.facecolor': 'white'}\n",
    "matplotlib.rcParams.update(style)"
   ]
  },
  {
   "cell_type": "code",
   "execution_count": 18,
   "metadata": {},
   "outputs": [
    {
     "data": {
      "image/png": "[encoded data removed]",
      "text/plain": [
       "<Figure size 1200x600 with 1 Axes>"
      ]
     },
     "metadata": {},
     "output_type": "display_data"
    }
   ],
   "source": [
    "fig, ax = plt.subplots()\n",
    "plt.plot(x, y, marker='o')\n",
    "plt.ylabel(\"Publications\", fontsize=14)\n",
    "locator = mdates.AutoDateLocator(minticks=3, maxticks=7)\n",
    "formatter = mdates.ConciseDateFormatter(locator)\n",
    "ax.xaxis.set_major_locator(locator)\n",
    "ax.xaxis.set_major_formatter(formatter)\n",
    "plt.savefig(\"lightkurve-publications.pdf\")"
   ]
  },
  {
   "cell_type": "code",
   "execution_count": null,
   "metadata": {},
   "outputs": [],
   "source": []
  },
  {
   "cell_type": "code",
   "execution_count": 15,
   "metadata": {},
   "outputs": [
    {
     "ename": "FileNotFoundError",
     "evalue": "[Errno 2] File papers-using-lightkurve-annotated.csv does not exist: 'papers-using-lightkurve-annotated.csv'",
     "output_type": "error",
     "traceback": [
      "\u001b[0;31m---------------------------------------------------------------------------\u001b[0m",
      "\u001b[0;31mFileNotFoundError\u001b[0m                         Traceback (most recent call last)",
      "\u001b[0;32m<ipython-input-15-fabfc55a15a7>\u001b[0m in \u001b[0;36m<module>\u001b[0;34m\u001b[0m\n\u001b[0;32m----> 1\u001b[0;31m \u001b[0mdfano\u001b[0m \u001b[0;34m=\u001b[0m \u001b[0mpd\u001b[0m\u001b[0;34m.\u001b[0m\u001b[0mread_csv\u001b[0m\u001b[0;34m(\u001b[0m\u001b[0;34m\"papers-using-lightkurve-annotated.csv\"\u001b[0m\u001b[0;34m)\u001b[0m\u001b[0;34m\u001b[0m\u001b[0;34m\u001b[0m\u001b[0m\n\u001b[0m",
      "\u001b[0;32m~/bin/anaconda/lib/python3.8/site-packages/pandas/io/parsers.py\u001b[0m in \u001b[0;36mparser_f\u001b[0;34m(filepath_or_buffer, sep, delimiter, header, names, index_col, usecols, squeeze, prefix, mangle_dupe_cols, dtype, engine, converters, true_values, false_values, skipinitialspace, skiprows, skipfooter, nrows, na_values, keep_default_na, na_filter, verbose, skip_blank_lines, parse_dates, infer_datetime_format, keep_date_col, date_parser, dayfirst, cache_dates, iterator, chunksize, compression, thousands, decimal, lineterminator, quotechar, quoting, doublequote, escapechar, comment, encoding, dialect, error_bad_lines, warn_bad_lines, delim_whitespace, low_memory, memory_map, float_precision)\u001b[0m\n\u001b[1;32m    674\u001b[0m         )\n\u001b[1;32m    675\u001b[0m \u001b[0;34m\u001b[0m\u001b[0m\n\u001b[0;32m--> 676\u001b[0;31m         \u001b[0;32mreturn\u001b[0m \u001b[0m_read\u001b[0m\u001b[0;34m(\u001b[0m\u001b[0mfilepath_or_buffer\u001b[0m\u001b[0;34m,\u001b[0m \u001b[0mkwds\u001b[0m\u001b[0;34m)\u001b[0m\u001b[0;34m\u001b[0m\u001b[0;34m\u001b[0m\u001b[0m\n\u001b[0m\u001b[1;32m    677\u001b[0m \u001b[0;34m\u001b[0m\u001b[0m\n\u001b[1;32m    678\u001b[0m     \u001b[0mparser_f\u001b[0m\u001b[0;34m.\u001b[0m\u001b[0m__name__\u001b[0m \u001b[0;34m=\u001b[0m \u001b[0mname\u001b[0m\u001b[0;34m\u001b[0m\u001b[0;34m\u001b[0m\u001b[0m\n",
      "\u001b[0;32m~/bin/anaconda/lib/python3.8/site-packages/pandas/io/parsers.py\u001b[0m in \u001b[0;36m_read\u001b[0;34m(filepath_or_buffer, kwds)\u001b[0m\n\u001b[1;32m    446\u001b[0m \u001b[0;34m\u001b[0m\u001b[0m\n\u001b[1;32m    447\u001b[0m     \u001b[0;31m# Create the parser.\u001b[0m\u001b[0;34m\u001b[0m\u001b[0;34m\u001b[0m\u001b[0;34m\u001b[0m\u001b[0m\n\u001b[0;32m--> 448\u001b[0;31m     \u001b[0mparser\u001b[0m \u001b[0;34m=\u001b[0m \u001b[0mTextFileReader\u001b[0m\u001b[0;34m(\u001b[0m\u001b[0mfp_or_buf\u001b[0m\u001b[0;34m,\u001b[0m \u001b[0;34m**\u001b[0m\u001b[0mkwds\u001b[0m\u001b[0;34m)\u001b[0m\u001b[0;34m\u001b[0m\u001b[0;34m\u001b[0m\u001b[0m\n\u001b[0m\u001b[1;32m    449\u001b[0m \u001b[0;34m\u001b[0m\u001b[0m\n\u001b[1;32m    450\u001b[0m     \u001b[0;32mif\u001b[0m \u001b[0mchunksize\u001b[0m \u001b[0;32mor\u001b[0m \u001b[0miterator\u001b[0m\u001b[0;34m:\u001b[0m\u001b[0;34m\u001b[0m\u001b[0;34m\u001b[0m\u001b[0m\n",
      "\u001b[0;32m~/bin/anaconda/lib/python3.8/site-packages/pandas/io/parsers.py\u001b[0m in \u001b[0;36m__init__\u001b[0;34m(self, f, engine, **kwds)\u001b[0m\n\u001b[1;32m    878\u001b[0m             \u001b[0mself\u001b[0m\u001b[0;34m.\u001b[0m\u001b[0moptions\u001b[0m\u001b[0;34m[\u001b[0m\u001b[0;34m\"has_index_names\"\u001b[0m\u001b[0;34m]\u001b[0m \u001b[0;34m=\u001b[0m \u001b[0mkwds\u001b[0m\u001b[0;34m[\u001b[0m\u001b[0;34m\"has_index_names\"\u001b[0m\u001b[0;34m]\u001b[0m\u001b[0;34m\u001b[0m\u001b[0;34m\u001b[0m\u001b[0m\n\u001b[1;32m    879\u001b[0m \u001b[0;34m\u001b[0m\u001b[0m\n\u001b[0;32m--> 880\u001b[0;31m         \u001b[0mself\u001b[0m\u001b[0;34m.\u001b[0m\u001b[0m_make_engine\u001b[0m\u001b[0;34m(\u001b[0m\u001b[0mself\u001b[0m\u001b[0;34m.\u001b[0m\u001b[0mengine\u001b[0m\u001b[0;34m)\u001b[0m\u001b[0;34m\u001b[0m\u001b[0;34m\u001b[0m\u001b[0m\n\u001b[0m\u001b[1;32m    881\u001b[0m \u001b[0;34m\u001b[0m\u001b[0m\n\u001b[1;32m    882\u001b[0m     \u001b[0;32mdef\u001b[0m \u001b[0mclose\u001b[0m\u001b[0;34m(\u001b[0m\u001b[0mself\u001b[0m\u001b[0;34m)\u001b[0m\u001b[0;34m:\u001b[0m\u001b[0;34m\u001b[0m\u001b[0;34m\u001b[0m\u001b[0m\n",
      "\u001b[0;32m~/bin/anaconda/lib/python3.8/site-packages/pandas/io/parsers.py\u001b[0m in \u001b[0;36m_make_engine\u001b[0;34m(self, engine)\u001b[0m\n\u001b[1;32m   1112\u001b[0m     \u001b[0;32mdef\u001b[0m \u001b[0m_make_engine\u001b[0m\u001b[0;34m(\u001b[0m\u001b[0mself\u001b[0m\u001b[0;34m,\u001b[0m \u001b[0mengine\u001b[0m\u001b[0;34m=\u001b[0m\u001b[0;34m\"c\"\u001b[0m\u001b[0;34m)\u001b[0m\u001b[0;34m:\u001b[0m\u001b[0;34m\u001b[0m\u001b[0;34m\u001b[0m\u001b[0m\n\u001b[1;32m   1113\u001b[0m         \u001b[0;32mif\u001b[0m \u001b[0mengine\u001b[0m \u001b[0;34m==\u001b[0m \u001b[0;34m\"c\"\u001b[0m\u001b[0;34m:\u001b[0m\u001b[0;34m\u001b[0m\u001b[0;34m\u001b[0m\u001b[0m\n\u001b[0;32m-> 1114\u001b[0;31m             \u001b[0mself\u001b[0m\u001b[0;34m.\u001b[0m\u001b[0m_engine\u001b[0m \u001b[0;34m=\u001b[0m \u001b[0mCParserWrapper\u001b[0m\u001b[0;34m(\u001b[0m\u001b[0mself\u001b[0m\u001b[0;34m.\u001b[0m\u001b[0mf\u001b[0m\u001b[0;34m,\u001b[0m \u001b[0;34m**\u001b[0m\u001b[0mself\u001b[0m\u001b[0;34m.\u001b[0m\u001b[0moptions\u001b[0m\u001b[0;34m)\u001b[0m\u001b[0;34m\u001b[0m\u001b[0;34m\u001b[0m\u001b[0m\n\u001b[0m\u001b[1;32m   1115\u001b[0m         \u001b[0;32melse\u001b[0m\u001b[0;34m:\u001b[0m\u001b[0;34m\u001b[0m\u001b[0;34m\u001b[0m\u001b[0m\n\u001b[1;32m   1116\u001b[0m             \u001b[0;32mif\u001b[0m \u001b[0mengine\u001b[0m \u001b[0;34m==\u001b[0m \u001b[0;34m\"python\"\u001b[0m\u001b[0;34m:\u001b[0m\u001b[0;34m\u001b[0m\u001b[0;34m\u001b[0m\u001b[0m\n",
      "\u001b[0;32m~/bin/anaconda/lib/python3.8/site-packages/pandas/io/parsers.py\u001b[0m in \u001b[0;36m__init__\u001b[0;34m(self, src, **kwds)\u001b[0m\n\u001b[1;32m   1889\u001b[0m         \u001b[0mkwds\u001b[0m\u001b[0;34m[\u001b[0m\u001b[0;34m\"usecols\"\u001b[0m\u001b[0;34m]\u001b[0m \u001b[0;34m=\u001b[0m \u001b[0mself\u001b[0m\u001b[0;34m.\u001b[0m\u001b[0musecols\u001b[0m\u001b[0;34m\u001b[0m\u001b[0;34m\u001b[0m\u001b[0m\n\u001b[1;32m   1890\u001b[0m \u001b[0;34m\u001b[0m\u001b[0m\n\u001b[0;32m-> 1891\u001b[0;31m         \u001b[0mself\u001b[0m\u001b[0;34m.\u001b[0m\u001b[0m_reader\u001b[0m \u001b[0;34m=\u001b[0m \u001b[0mparsers\u001b[0m\u001b[0;34m.\u001b[0m\u001b[0mTextReader\u001b[0m\u001b[0;34m(\u001b[0m\u001b[0msrc\u001b[0m\u001b[0;34m,\u001b[0m \u001b[0;34m**\u001b[0m\u001b[0mkwds\u001b[0m\u001b[0;34m)\u001b[0m\u001b[0;34m\u001b[0m\u001b[0;34m\u001b[0m\u001b[0m\n\u001b[0m\u001b[1;32m   1892\u001b[0m         \u001b[0mself\u001b[0m\u001b[0;34m.\u001b[0m\u001b[0munnamed_cols\u001b[0m \u001b[0;34m=\u001b[0m \u001b[0mself\u001b[0m\u001b[0;34m.\u001b[0m\u001b[0m_reader\u001b[0m\u001b[0;34m.\u001b[0m\u001b[0munnamed_cols\u001b[0m\u001b[0;34m\u001b[0m\u001b[0;34m\u001b[0m\u001b[0m\n\u001b[1;32m   1893\u001b[0m \u001b[0;34m\u001b[0m\u001b[0m\n",
      "\u001b[0;32mpandas/_libs/parsers.pyx\u001b[0m in \u001b[0;36mpandas._libs.parsers.TextReader.__cinit__\u001b[0;34m()\u001b[0m\n",
      "\u001b[0;32mpandas/_libs/parsers.pyx\u001b[0m in \u001b[0;36mpandas._libs.parsers.TextReader._setup_parser_source\u001b[0;34m()\u001b[0m\n",
      "\u001b[0;31mFileNotFoundError\u001b[0m: [Errno 2] File papers-using-lightkurve-annotated.csv does not exist: 'papers-using-lightkurve-annotated.csv'"
     ]
    }
   ],
   "source": [
    "dfano = pd.read_csv(\"papers-using-lightkurve-annotated.csv\")"
   ]
  },
  {
   "cell_type": "code",
   "execution_count": null,
   "metadata": {},
   "outputs": [],
   "source": [
    "100* dfano.category.value_counts() / len(dfano)"
   ]
  }
 ],
 "metadata": {
  "kernelspec": {
   "display_name": "Python 3",
   "language": "python",
   "name": "python3"
  },
  "language_info": {
   "codemirror_mode": {
    "name": "ipython",
    "version": 3
   },
   "file_extension": ".py",
   "mimetype": "text/x-python",
   "name": "python",
   "nbconvert_exporter": "python",
   "pygments_lexer": "ipython3",
   "version": "3.8.2"
  }
 },
 "nbformat": 4,
 "nbformat_minor": 4
}
